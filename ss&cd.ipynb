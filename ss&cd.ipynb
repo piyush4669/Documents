{
  "nbformat": 4,
  "nbformat_minor": 0,
  "metadata": {
    "colab": {
      "name": "ss&cd.ipynb",
      "version": "0.3.2",
      "provenance": [],
      "collapsed_sections": [],
      "include_colab_link": true
    },
    "kernelspec": {
      "name": "python3",
      "display_name": "Python 3"
    }
  },
  "cells": [
    {
      "cell_type": "markdown",
      "metadata": {
        "id": "view-in-github",
        "colab_type": "text"
      },
      "source": [
        "<a href=\"https://colab.research.google.com/github/piyush4669/Documents/blob/master/ss%26cd.ipynb\" target=\"_parent\"><img src=\"https://colab.research.google.com/assets/colab-badge.svg\" alt=\"Open In Colab\"/></a>"
      ]
    },
    {
      "metadata": {
        "id": "F79qpUnSe2uk",
        "colab_type": "code",
        "colab": {}
      },
      "cell_type": "code",
      "source": [
        "!pip install -r requirements.txt \n",
        "!python -m spacy download en \n",
        "!pip install matplotlib==2.1.0\n",
        "!sudo apt-get install -y graphviz libgraphviz-dev pkg-config python-pip\n",
        "!sudo pip install pygraphviz\n"
      ],
      "execution_count": 0,
      "outputs": []
    },
    {
      "metadata": {
        "id": "2lOS4xEafna4",
        "colab_type": "code",
        "colab": {}
      },
      "cell_type": "code",
      "source": [
        "!python ttJson.py -f saint.txt\n",
        "!python sscd.py saint.json"
      ],
      "execution_count": 0,
      "outputs": []
    },
    {
      "metadata": {
        "id": "r52XqnZkdtZo",
        "colab_type": "code",
        "colab": {}
      },
      "cell_type": "code",
      "source": [
        "import pygraphviz as pgv\n",
        "import networkx as nx\n",
        "import matplotlib.pyplot as plt\n",
        "Gtmp = pgv.AGraph('graph.dot')\n",
        "G = nx.Graph(Gtmp)\n",
        "nx.draw(G)\n",
        "plt.show()\n",
        "\n",
        "Gtmp.layout()\n",
        "Gtmp.draw('file.png')"
      ],
      "execution_count": 0,
      "outputs": []
    },
    {
      "metadata": {
        "id": "sTNl_VKPrX0s",
        "colab_type": "code",
        "colab": {}
      },
      "cell_type": "code",
      "source": [
        "from google.colab import files\n",
        "files.download('output.txt')\n",
        "files.download('file.png')"
      ],
      "execution_count": 0,
      "outputs": []
    }
  ]
}